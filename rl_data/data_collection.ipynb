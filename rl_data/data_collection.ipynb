{
 "cells": [
  {
   "cell_type": "code",
   "execution_count": 4,
   "metadata": {},
   "outputs": [],
   "source": [
    "import requests\n",
    "import pandas as pd\n",
    "from collection.config import API_KEY\n",
    "import collection.api_requests as api\n",
    "import cleaning.cleaning\n",
    "import pickle\n",
    "from numpy import int8, uint8, uint16, uint32, float16\n",
    "\n",
    "paramaters = {'min_rank':'grand-champion','max_rank':'grand-champion','playlist':'ranked-doubles'}\n",
    "\n",
    "head = {'Authorization': 'n0emNjRIkzyy4Z9Ii7HYYvCtani5AWT4T7HOcdrm'}"
   ]
  },
  {
   "cell_type": "code",
   "execution_count": 13,
   "metadata": {},
   "outputs": [
    {
     "name": "stderr",
     "output_type": "stream",
     "text": [
      "c:\\Users\\Charles\\Desktop\\CS Projects\\Python\\RL Data\\rl_data\\collection\\api_requests.py:18: FutureWarning: The default dtype for empty Series will be 'object' instead of 'float64' in a future version. Specify a dtype explicitly to silence this warning.\n",
      "  games = Series()\n"
     ]
    },
    {
     "ename": "AttributeError",
     "evalue": "'DataFrame' object has no attribute 'concat'",
     "output_type": "error",
     "traceback": [
      "\u001b[1;31m---------------------------------------------------------------------------\u001b[0m",
      "\u001b[1;31mAttributeError\u001b[0m                            Traceback (most recent call last)",
      "\u001b[1;32m~\\AppData\\Local\\Temp\\ipykernel_18768\\3591167990.py\u001b[0m in \u001b[0;36m?\u001b[1;34m()\u001b[0m\n\u001b[1;32m----> 1\u001b[1;33m \u001b[0mcleaning\u001b[0m\u001b[1;33m.\u001b[0m\u001b[0mcleaning\u001b[0m\u001b[1;33m.\u001b[0m\u001b[0mget_games\u001b[0m\u001b[1;33m(\u001b[0m\u001b[0mparamaters\u001b[0m\u001b[1;33m,\u001b[0m \u001b[1;36m3\u001b[0m\u001b[1;33m,\u001b[0m \u001b[0mAPI_KEY\u001b[0m\u001b[1;33m)\u001b[0m\u001b[1;33m\u001b[0m\u001b[1;33m\u001b[0m\u001b[0m\n\u001b[0m",
      "\u001b[1;32mc:\\Users\\Charles\\Desktop\\CS Projects\\Python\\RL Data\\rl_data\\cleaning\\cleaning.py\u001b[0m in \u001b[0;36m?\u001b[1;34m(keywords, num_req, API_KEY)\u001b[0m\n\u001b[0;32m     33\u001b[0m     \u001b[0mgames\u001b[0m \u001b[1;33m=\u001b[0m \u001b[0mgames\u001b[0m\u001b[1;33m.\u001b[0m\u001b[0mmap\u001b[0m\u001b[1;33m(\u001b[0m\u001b[0mjson_to_df\u001b[0m\u001b[1;33m)\u001b[0m\u001b[1;33m\u001b[0m\u001b[1;33m\u001b[0m\u001b[0m\n\u001b[0;32m     34\u001b[0m \u001b[1;33m\u001b[0m\u001b[0m\n\u001b[0;32m     35\u001b[0m     \u001b[0mdf\u001b[0m \u001b[1;33m=\u001b[0m \u001b[0mconcat\u001b[0m\u001b[1;33m(\u001b[0m\u001b[0mgames\u001b[0m\u001b[1;33m.\u001b[0m\u001b[0mmap\u001b[0m\u001b[1;33m(\u001b[0m\u001b[1;32mlambda\u001b[0m \u001b[0mx\u001b[0m\u001b[1;33m:\u001b[0m \u001b[0mDataFrame\u001b[0m\u001b[1;33m(\u001b[0m\u001b[0mx\u001b[0m\u001b[1;33m)\u001b[0m\u001b[1;33m)\u001b[0m\u001b[1;33m)\u001b[0m\u001b[1;33m\u001b[0m\u001b[1;33m\u001b[0m\u001b[0m\n\u001b[0;32m     36\u001b[0m \u001b[1;33m\u001b[0m\u001b[0m\n\u001b[1;32m---> 37\u001b[1;33m     \u001b[1;32mreturn\u001b[0m \u001b[0mdf\u001b[0m\u001b[1;33m\u001b[0m\u001b[1;33m\u001b[0m\u001b[0m\n\u001b[0m",
      "\u001b[1;32mc:\\Users\\Charles\\anaconda3\\envs\\RLData\\Lib\\site-packages\\pandas\\core\\generic.py\u001b[0m in \u001b[0;36m?\u001b[1;34m(self, name)\u001b[0m\n\u001b[0;32m   5898\u001b[0m             \u001b[1;32mand\u001b[0m \u001b[0mname\u001b[0m \u001b[1;32mnot\u001b[0m \u001b[1;32min\u001b[0m \u001b[0mself\u001b[0m\u001b[1;33m.\u001b[0m\u001b[0m_accessors\u001b[0m\u001b[1;33m\u001b[0m\u001b[1;33m\u001b[0m\u001b[0m\n\u001b[0;32m   5899\u001b[0m             \u001b[1;32mand\u001b[0m \u001b[0mself\u001b[0m\u001b[1;33m.\u001b[0m\u001b[0m_info_axis\u001b[0m\u001b[1;33m.\u001b[0m\u001b[0m_can_hold_identifiers_and_holds_name\u001b[0m\u001b[1;33m(\u001b[0m\u001b[0mname\u001b[0m\u001b[1;33m)\u001b[0m\u001b[1;33m\u001b[0m\u001b[1;33m\u001b[0m\u001b[0m\n\u001b[0;32m   5900\u001b[0m         ):\n\u001b[0;32m   5901\u001b[0m             \u001b[1;32mreturn\u001b[0m \u001b[0mself\u001b[0m\u001b[1;33m[\u001b[0m\u001b[0mname\u001b[0m\u001b[1;33m]\u001b[0m\u001b[1;33m\u001b[0m\u001b[1;33m\u001b[0m\u001b[0m\n\u001b[1;32m-> 5902\u001b[1;33m         \u001b[1;32mreturn\u001b[0m \u001b[0mobject\u001b[0m\u001b[1;33m.\u001b[0m\u001b[0m__getattribute__\u001b[0m\u001b[1;33m(\u001b[0m\u001b[0mself\u001b[0m\u001b[1;33m,\u001b[0m \u001b[0mname\u001b[0m\u001b[1;33m)\u001b[0m\u001b[1;33m\u001b[0m\u001b[1;33m\u001b[0m\u001b[0m\n\u001b[0m",
      "\u001b[1;31mAttributeError\u001b[0m: 'DataFrame' object has no attribute 'concat'"
     ]
    }
   ],
   "source": [
    "cleaning.cleaning.get_games(paramaters, 3, API_KEY)"
   ]
  },
  {
   "cell_type": "code",
   "execution_count": 5,
   "metadata": {},
   "outputs": [],
   "source": [
    "data = dr.get_games(paramaters, config.API_KEY, 10)"
   ]
  },
  {
   "cell_type": "code",
   "execution_count": 8,
   "metadata": {},
   "outputs": [
    {
     "data": {
      "text/plain": [
       "0      None\n",
       "1      None\n",
       "2      None\n",
       "3      None\n",
       "4      None\n",
       "       ... \n",
       "495    None\n",
       "496    None\n",
       "497    None\n",
       "498    None\n",
       "499    None\n",
       "Name: date, Length: 500, dtype: object"
      ]
     },
     "execution_count": 8,
     "metadata": {},
     "output_type": "execute_result"
    }
   ],
   "source": [
    "data['date'].astype(dtype='datetime64[as]')"
   ]
  },
  {
   "cell_type": "code",
   "execution_count": 6,
   "metadata": {},
   "outputs": [
    {
     "data": {
      "text/plain": [
       "482666"
      ]
     },
     "execution_count": 6,
     "metadata": {},
     "output_type": "execute_result"
    }
   ],
   "source": [
    "data.memory_usage(deep=True).sum()"
   ]
  },
  {
   "cell_type": "code",
   "execution_count": null,
   "metadata": {},
   "outputs": [],
   "source": [
    "data.iloc[0]=dr.get_game_info('26476651-1e6c-48fd-9183-270d4190e71e', config.API_KEY)\n",
    "data"
   ]
  },
  {
   "cell_type": "code",
   "execution_count": 14,
   "metadata": {},
   "outputs": [
    {
     "data": {
      "text/plain": [
       "Index(['id', 'link', 'created', 'status', 'rocket_league_id', 'match_guid',\n",
       "       'title', 'map_code', 'match_type', 'team_size', 'playlist_id',\n",
       "       'duration', 'overtime', 'season', 'season_type', 'date',\n",
       "       'date_has_timezone', 'visibility', 'playlist_name', 'map_name',\n",
       "       'uploader.steam_id', 'uploader.name', 'uploader.profile_url',\n",
       "       'uploader.avatar', 'min_rank.id', 'min_rank.tier', 'min_rank.division',\n",
       "       'min_rank.name', 'max_rank.id', 'max_rank.tier', 'max_rank.division',\n",
       "       'max_rank.name', 'blue_p1', 'blue_p2', 'orange_p1', 'orange_p2'],\n",
       "      dtype='object')"
      ]
     },
     "execution_count": 14,
     "metadata": {},
     "output_type": "execute_result"
    }
   ],
   "source": [
    "dr.get_game_info('26476651-1e6c-48fd-9183-270d4190e71e', config.API_KEY).columns"
   ]
  },
  {
   "cell_type": "code",
   "execution_count": 12,
   "metadata": {},
   "outputs": [
    {
     "data": {
      "text/plain": [
       "CameraSettings(fov=110, height=110, pitch=-4, distance=250, stiffness=0.85, swivel_speed=4.7, transition_speed=1.2)"
      ]
     },
     "execution_count": 12,
     "metadata": {},
     "output_type": "execute_result"
    }
   ],
   "source": [
    "data.loc[0]['blue_p1'].camera_settings"
   ]
  },
  {
   "cell_type": "code",
   "execution_count": 2,
   "metadata": {},
   "outputs": [],
   "source": [
    "api_request = dr.get(f'https://ballchasing.com/api/replays/26476651-1e6c-48fd-9183-270d4190e71e', headers={'Authorization': config.API_KEY}, timeout=10)\n",
    "request_json = api_request.json()"
   ]
  },
  {
   "cell_type": "code",
   "execution_count": 3,
   "metadata": {},
   "outputs": [
    {
     "data": {
      "text/html": [
       "<div>\n",
       "<style scoped>\n",
       "    .dataframe tbody tr th:only-of-type {\n",
       "        vertical-align: middle;\n",
       "    }\n",
       "\n",
       "    .dataframe tbody tr th {\n",
       "        vertical-align: top;\n",
       "    }\n",
       "\n",
       "    .dataframe thead th {\n",
       "        text-align: right;\n",
       "    }\n",
       "</style>\n",
       "<table border=\"1\" class=\"dataframe\">\n",
       "  <thead>\n",
       "    <tr style=\"text-align: right;\">\n",
       "      <th></th>\n",
       "      <th>start_time</th>\n",
       "      <th>end_time</th>\n",
       "      <th>name</th>\n",
       "      <th>car_id</th>\n",
       "      <th>car_name</th>\n",
       "      <th>mvp</th>\n",
       "      <th>steering_sensitivity</th>\n",
       "      <th>id.platform</th>\n",
       "      <th>id.id</th>\n",
       "      <th>camera.fov</th>\n",
       "      <th>...</th>\n",
       "      <th>stats.positioning.percent_most_back</th>\n",
       "      <th>stats.positioning.percent_most_forward</th>\n",
       "      <th>stats.positioning.percent_closest_to_ball</th>\n",
       "      <th>stats.positioning.percent_farthest_from_ball</th>\n",
       "      <th>stats.demo.inflicted</th>\n",
       "      <th>stats.demo.taken</th>\n",
       "      <th>rank.id</th>\n",
       "      <th>rank.tier</th>\n",
       "      <th>rank.division</th>\n",
       "      <th>rank.name</th>\n",
       "    </tr>\n",
       "  </thead>\n",
       "  <tbody>\n",
       "    <tr>\n",
       "      <th>0</th>\n",
       "      <td>0.0</td>\n",
       "      <td>218.101425</td>\n",
       "      <td>Peachy</td>\n",
       "      <td>23</td>\n",
       "      <td>Octane</td>\n",
       "      <td>True</td>\n",
       "      <td>1.21</td>\n",
       "      <td>steam</td>\n",
       "      <td>76561198795753183</td>\n",
       "      <td>110</td>\n",
       "      <td>...</td>\n",
       "      <td>43.889885</td>\n",
       "      <td>58.843520</td>\n",
       "      <td>63.407295</td>\n",
       "      <td>39.131912</td>\n",
       "      <td>0</td>\n",
       "      <td>1</td>\n",
       "      <td>champion-3</td>\n",
       "      <td>18</td>\n",
       "      <td>2</td>\n",
       "      <td>Champion III Division 2</td>\n",
       "    </tr>\n",
       "    <tr>\n",
       "      <th>1</th>\n",
       "      <td>0.0</td>\n",
       "      <td>218.101425</td>\n",
       "      <td>Kick.com/jushyrs</td>\n",
       "      <td>23</td>\n",
       "      <td>Octane</td>\n",
       "      <td>False</td>\n",
       "      <td>1.4</td>\n",
       "      <td>steam</td>\n",
       "      <td>76561198114614343</td>\n",
       "      <td>110</td>\n",
       "      <td>...</td>\n",
       "      <td>59.765984</td>\n",
       "      <td>43.550030</td>\n",
       "      <td>38.840607</td>\n",
       "      <td>64.669610</td>\n",
       "      <td>1</td>\n",
       "      <td>0</td>\n",
       "      <td>champion-3</td>\n",
       "      <td>18</td>\n",
       "      <td>2</td>\n",
       "      <td>Champion III Division 2</td>\n",
       "    </tr>\n",
       "    <tr>\n",
       "      <th>2</th>\n",
       "      <td>0.0</td>\n",
       "      <td>215.901459</td>\n",
       "      <td>Throw3y :)</td>\n",
       "      <td>23</td>\n",
       "      <td>Octane</td>\n",
       "      <td>False</td>\n",
       "      <td>1.0</td>\n",
       "      <td>steam</td>\n",
       "      <td>76561198985729791</td>\n",
       "      <td>110</td>\n",
       "      <td>...</td>\n",
       "      <td>42.302597</td>\n",
       "      <td>57.663050</td>\n",
       "      <td>54.178730</td>\n",
       "      <td>45.786915</td>\n",
       "      <td>0</td>\n",
       "      <td>0</td>\n",
       "      <td>0</td>\n",
       "      <td>0</td>\n",
       "      <td>0</td>\n",
       "      <td>0</td>\n",
       "    </tr>\n",
       "    <tr>\n",
       "      <th>3</th>\n",
       "      <td>0.0</td>\n",
       "      <td>218.101425</td>\n",
       "      <td>GTU Ewoo</td>\n",
       "      <td>23</td>\n",
       "      <td>Octane</td>\n",
       "      <td>False</td>\n",
       "      <td>1.03</td>\n",
       "      <td>epic</td>\n",
       "      <td>cd9774e7df774b878bf73def20c6fb2b</td>\n",
       "      <td>110</td>\n",
       "      <td>...</td>\n",
       "      <td>61.805120</td>\n",
       "      <td>45.200756</td>\n",
       "      <td>48.259457</td>\n",
       "      <td>58.746418</td>\n",
       "      <td>1</td>\n",
       "      <td>1</td>\n",
       "      <td>champion-3</td>\n",
       "      <td>18</td>\n",
       "      <td>2</td>\n",
       "      <td>Champion III Division 2</td>\n",
       "    </tr>\n",
       "  </tbody>\n",
       "</table>\n",
       "<p>4 rows × 104 columns</p>\n",
       "</div>"
      ],
      "text/plain": [
       "   start_time    end_time              name  car_id car_name    mvp  \\\n",
       "0         0.0  218.101425            Peachy      23   Octane   True   \n",
       "1         0.0  218.101425  Kick.com/jushyrs      23   Octane  False   \n",
       "2         0.0  215.901459        Throw3y :)      23   Octane  False   \n",
       "3         0.0  218.101425          GTU Ewoo      23   Octane  False   \n",
       "\n",
       "   steering_sensitivity id.platform                             id.id  \\\n",
       "0                  1.21       steam                 76561198795753183   \n",
       "1                   1.4       steam                 76561198114614343   \n",
       "2                   1.0       steam                 76561198985729791   \n",
       "3                  1.03        epic  cd9774e7df774b878bf73def20c6fb2b   \n",
       "\n",
       "   camera.fov  ...  stats.positioning.percent_most_back  \\\n",
       "0         110  ...                            43.889885   \n",
       "1         110  ...                            59.765984   \n",
       "2         110  ...                            42.302597   \n",
       "3         110  ...                            61.805120   \n",
       "\n",
       "   stats.positioning.percent_most_forward  \\\n",
       "0                               58.843520   \n",
       "1                               43.550030   \n",
       "2                               57.663050   \n",
       "3                               45.200756   \n",
       "\n",
       "   stats.positioning.percent_closest_to_ball  \\\n",
       "0                                  63.407295   \n",
       "1                                  38.840607   \n",
       "2                                  54.178730   \n",
       "3                                  48.259457   \n",
       "\n",
       "   stats.positioning.percent_farthest_from_ball  stats.demo.inflicted  \\\n",
       "0                                     39.131912                     0   \n",
       "1                                     64.669610                     1   \n",
       "2                                     45.786915                     0   \n",
       "3                                     58.746418                     1   \n",
       "\n",
       "   stats.demo.taken     rank.id  rank.tier  rank.division  \\\n",
       "0                 1  champion-3         18              2   \n",
       "1                 0  champion-3         18              2   \n",
       "2                 0           0          0              0   \n",
       "3                 1  champion-3         18              2   \n",
       "\n",
       "                 rank.name  \n",
       "0  Champion III Division 2  \n",
       "1  Champion III Division 2  \n",
       "2                        0  \n",
       "3  Champion III Division 2  \n",
       "\n",
       "[4 rows x 104 columns]"
      ]
     },
     "execution_count": 3,
     "metadata": {},
     "output_type": "execute_result"
    }
   ],
   "source": [
    "base = pd.DataFrame(columns=['start_time',\n",
    " 'end_time',\n",
    " 'name',\n",
    " 'car_id',\n",
    " 'car_name',\n",
    " 'mvp',\n",
    " 'steering_sensitivity',\n",
    " 'id.platform',\n",
    " 'id.id',\n",
    " 'camera.fov',\n",
    " 'camera.height',\n",
    " 'camera.pitch',\n",
    " 'camera.distance',\n",
    " 'camera.stiffness',\n",
    " 'camera.swivel_speed',\n",
    " 'camera.transition_speed',\n",
    " 'stats.core.shots',\n",
    " 'stats.core.shots_against',\n",
    " 'stats.core.goals',\n",
    " 'stats.core.goals_against',\n",
    " 'stats.core.saves',\n",
    " 'stats.core.assists',\n",
    " 'stats.core.score',\n",
    " 'stats.core.mvp',\n",
    " 'stats.core.shooting_percentage',\n",
    " 'stats.boost.bpm',\n",
    " 'stats.boost.bcpm',\n",
    " 'stats.boost.avg_amount',\n",
    " 'stats.boost.amount_collected',\n",
    " 'stats.boost.amount_stolen',\n",
    " 'stats.boost.amount_collected_big',\n",
    " 'stats.boost.amount_stolen_big',\n",
    " 'stats.boost.amount_collected_small',\n",
    " 'stats.boost.amount_stolen_small',\n",
    " 'stats.boost.count_collected_big',\n",
    " 'stats.boost.count_stolen_big',\n",
    " 'stats.boost.count_collected_small',\n",
    " 'stats.boost.count_stolen_small',\n",
    " 'stats.boost.amount_overfill',\n",
    " 'stats.boost.amount_overfill_stolen',\n",
    " 'stats.boost.amount_used_while_supersonic',\n",
    " 'stats.boost.time_zero_boost',\n",
    " 'stats.boost.percent_zero_boost',\n",
    " 'stats.boost.time_full_boost',\n",
    " 'stats.boost.percent_full_boost',\n",
    " 'stats.boost.time_boost_0_25',\n",
    " 'stats.boost.time_boost_25_50',\n",
    " 'stats.boost.time_boost_50_75',\n",
    " 'stats.boost.time_boost_75_100',\n",
    " 'stats.boost.percent_boost_0_25',\n",
    " 'stats.boost.percent_boost_25_50',\n",
    " 'stats.boost.percent_boost_50_75',\n",
    " 'stats.boost.percent_boost_75_100',\n",
    " 'stats.movement.avg_speed',\n",
    " 'stats.movement.total_distance',\n",
    " 'stats.movement.time_supersonic_speed',\n",
    " 'stats.movement.time_boost_speed',\n",
    " 'stats.movement.time_slow_speed',\n",
    " 'stats.movement.time_ground',\n",
    " 'stats.movement.time_low_air',\n",
    " 'stats.movement.time_high_air',\n",
    " 'stats.movement.time_powerslide',\n",
    " 'stats.movement.count_powerslide',\n",
    " 'stats.movement.avg_powerslide_duration',\n",
    " 'stats.movement.avg_speed_percentage',\n",
    " 'stats.movement.percent_slow_speed',\n",
    " 'stats.movement.percent_boost_speed',\n",
    " 'stats.movement.percent_supersonic_speed',\n",
    " 'stats.movement.percent_ground',\n",
    " 'stats.movement.percent_low_air',\n",
    " 'stats.movement.percent_high_air',\n",
    " 'stats.positioning.avg_distance_to_ball',\n",
    " 'stats.positioning.avg_distance_to_ball_possession',\n",
    " 'stats.positioning.avg_distance_to_ball_no_possession',\n",
    " 'stats.positioning.avg_distance_to_mates',\n",
    " 'stats.positioning.time_defensive_third',\n",
    " 'stats.positioning.time_neutral_third',\n",
    " 'stats.positioning.time_offensive_third',\n",
    " 'stats.positioning.time_defensive_half',\n",
    " 'stats.positioning.time_offensive_half',\n",
    " 'stats.positioning.time_behind_ball',\n",
    " 'stats.positioning.time_infront_ball',\n",
    " 'stats.positioning.time_most_back',\n",
    " 'stats.positioning.time_most_forward',\n",
    " 'stats.positioning.goals_against_while_last_defender',\n",
    " 'stats.positioning.time_closest_to_ball',\n",
    " 'stats.positioning.time_farthest_from_ball',\n",
    " 'stats.positioning.percent_defensive_third',\n",
    " 'stats.positioning.percent_offensive_third',\n",
    " 'stats.positioning.percent_neutral_third',\n",
    " 'stats.positioning.percent_defensive_half',\n",
    " 'stats.positioning.percent_offensive_half',\n",
    " 'stats.positioning.percent_behind_ball',\n",
    " 'stats.positioning.percent_infront_ball',\n",
    " 'stats.positioning.percent_most_back',\n",
    " 'stats.positioning.percent_most_forward',\n",
    " 'stats.positioning.percent_closest_to_ball',\n",
    " 'stats.positioning.percent_farthest_from_ball',\n",
    " 'stats.demo.inflicted',\n",
    " 'stats.demo.taken',\n",
    " 'rank.id',\n",
    " 'rank.tier',\n",
    " 'rank.division',\n",
    " 'rank.name'])\n",
    "\n",
    "blue = pd.json_normalize(api_request.json(), record_path=[['blue','players']])\n",
    "orange = pd.json_normalize(api_request.json(), record_path=[['orange','players']])\n",
    "q = pd.concat([base, blue, orange], ignore_index=True).fillna(0)\n",
    "\n",
    "float32 = pd.Float32Dtype()\n",
    "string = pd.StringDtype()\n",
    "int32 = pd.UInt32Dtype()\n",
    "int8 = pd.UInt8Dtype()\n",
    "\n",
    "dtypea = {\n",
    "    'start_time': float32,\n",
    "    'end_time': float32,\n",
    "    'name': string,\n",
    "    'car_id': int32,\n",
    "    'car_name': string,\n",
    "    'mvp': bool,\n",
    "    'steering_sensitivity': float32,\n",
    "    'id.platform': string,\n",
    "    'id.id': string,\n",
    "    'stats.demo.inflicted': int8,\n",
    "    'stats.demo.taken': int8,\n",
    "    'rank.id': string,\n",
    "    'rank.tier': int8,\n",
    "    'rank.division': int8,\n",
    "    'rank.name': string,\n",
    "    }\n",
    "\n",
    "q.astype(dtype=dtypea)"
   ]
  },
  {
   "cell_type": "code",
   "execution_count": 4,
   "metadata": {},
   "outputs": [
    {
     "data": {
      "text/plain": [
       "dtype('O')"
      ]
     },
     "execution_count": 4,
     "metadata": {},
     "output_type": "execute_result"
    }
   ],
   "source": [
    "q.memory_usage(deep=True).sum()\n",
    "q['name'].dtype"
   ]
  },
  {
   "cell_type": "code",
   "execution_count": 4,
   "metadata": {},
   "outputs": [
    {
     "data": {
      "text/plain": [
       "0"
      ]
     },
     "execution_count": 4,
     "metadata": {},
     "output_type": "execute_result"
    }
   ],
   "source": [
    "cam_set = sc.CameraSettings(*q.T[q.columns.str.contains('camera')][3])\n",
    "core_stat = sc.CoreStats(*q.T[q.columns.str.contains('stats.core')][3])\n",
    "boost_stat = sc.BoostStats(*q.T[q.columns.str.contains('stats.boost')][3])\n",
    "move_stat = sc.MovementStats(*q.T[q.columns.str.contains('stats.movement')][3])\n",
    "pos_stat = sc.PositioningStats(*q.T[q.columns.str.contains('stats.positioning')][3])\n",
    "\n",
    "a = player.Player(\n",
    "    *q.T.loc['start_time':'id.id',3],\n",
    "    *q.T[q.columns.str.contains('stats.demo')][3],\n",
    "    *q.T[q.columns.str.contains('rank.')][3],\n",
    "    camera_settings=cam_set, core_stats=core_stat, boost_stats=boost_stat, movement_stats=move_stat, positioning_stats=pos_stat\n",
    "    )\n",
    "a.mvp"
   ]
  },
  {
   "cell_type": "code",
   "execution_count": 12,
   "metadata": {},
   "outputs": [
    {
     "data": {
      "text/plain": [
       "2209"
      ]
     },
     "execution_count": 12,
     "metadata": {},
     "output_type": "execute_result"
    }
   ],
   "source": [
    "dr.get_game_info('26476651-1e6c-48fd-9183-270d4190e71e', config.API_KEY).memory_usage(deep=True).sum()"
   ]
  },
  {
   "cell_type": "code",
   "execution_count": 12,
   "metadata": {},
   "outputs": [
    {
     "data": {
      "text/plain": [
       "str"
      ]
     },
     "execution_count": 12,
     "metadata": {},
     "output_type": "execute_result"
    }
   ],
   "source": [
    "type(a.name)"
   ]
  }
 ],
 "metadata": {
  "kernelspec": {
   "display_name": "Python 3",
   "language": "python",
   "name": "python3"
  },
  "language_info": {
   "codemirror_mode": {
    "name": "ipython",
    "version": 3
   },
   "file_extension": ".py",
   "mimetype": "text/x-python",
   "name": "python",
   "nbconvert_exporter": "python",
   "pygments_lexer": "ipython3",
   "version": "3.11.3"
  },
  "orig_nbformat": 4
 },
 "nbformat": 4,
 "nbformat_minor": 2
}
